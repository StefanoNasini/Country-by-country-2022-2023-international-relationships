{
 "cells": [
  {
   "cell_type": "code",
   "execution_count": null,
   "id": "23792bc5",
   "metadata": {},
   "outputs": [],
   "source": [
    "# !git clone -b master https://github.com/StefanoNasini/Country-by-country-2022-2023-international-relationships\n",
    "# !cd Country-by-country-2022-2023-international-relationships"
   ]
  },
  {
   "cell_type": "markdown",
   "id": "629d5735",
   "metadata": {},
   "source": [
    "Implement and realize the formula\n",
    "$$w_{ij} = (1+\\frac{GDP_j}{GDP_i})^{d_{ij}}$$\n",
    "\n",
    "(previous version features an extra coefficient for friends and enemies) where \n",
    "\n",
    "$d_{i,j} = 1$ if i and j are neighbors. \n",
    "\n",
    "$d_{i,j}=\\frac{\\Delta_{max}-\\Delta_{i,j}}{\\Delta_{max}}$ otherwise"
   ]
  },
  {
   "cell_type": "markdown",
   "id": "b333a658",
   "metadata": {},
   "source": []
  },
  {
   "cell_type": "code",
   "execution_count": 2,
   "id": "c3ae46ec",
   "metadata": {},
   "outputs": [],
   "source": [
    "import json\n",
    "import os\n",
    "root = os.getcwd()\n",
    "root = os.path.dirname(root)\n",
    "import pandas as pd"
   ]
  },
  {
   "cell_type": "code",
   "execution_count": 3,
   "id": "3e841ecf",
   "metadata": {},
   "outputs": [],
   "source": [
    "rho = 1\n",
    "\n",
    "covotes = pd.read_csv(os.path.join(root, \"constructed_network\", \"covotes.csv\"), index_col=0)\n",
    "friends90_tri = pd.read_csv(os.path.join(root, \"constructed_network\", \"final_network\", \"friends90_tri.csv\"), index_col=0)\n",
    "enemies90_tri = pd.read_csv(os.path.join(root, \"constructed_network\", \"final_network\", \"enemies90_tri.csv\"), index_col=0)\n",
    "\n",
    "friends80_tri = pd.read_csv(os.path.join(root, \"constructed_network\", \"final_network\", \"friends80_tri.csv\"), index_col=0)\n",
    "enemies80_tri = pd.read_csv(os.path.join(root, \"constructed_network\", \"final_network\", \"enemies80_tri.csv\"), index_col=0)\n",
    "dij = pd.read_csv(os.path.join(root, \"constructed_network\", \"distance_factor.csv\"), index_col = 0)\n",
    "UN_countries = friends90_tri.columns"
   ]
  },
  {
   "cell_type": "code",
   "execution_count": null,
   "id": "2145326c",
   "metadata": {},
   "outputs": [],
   "source": []
  },
  {
   "cell_type": "code",
   "execution_count": 4,
   "id": "a18cec3e",
   "metadata": {},
   "outputs": [],
   "source": [
    "wij = pd.DataFrame(columns=sorted(UN_countries), index=sorted(UN_countries))"
   ]
  },
  {
   "cell_type": "code",
   "execution_count": 5,
   "id": "16393bbc",
   "metadata": {},
   "outputs": [],
   "source": [
    "with open(os.path.join(root, \"raw_data\", \"GDP_data\", \"GDP_data.json\"), 'r') as f:\n",
    "    GDP = eval(f.read())"
   ]
  },
  {
   "cell_type": "code",
   "execution_count": 6,
   "id": "c574833a",
   "metadata": {},
   "outputs": [
    {
     "name": "stdout",
     "output_type": "stream",
     "text": [
      "['Y AFGHANISTAN\\n', 'A ALBANIA\\n', 'Y ALGERIA\\n', 'A ANDORRA\\n', 'Y ANGOLA\\n', 'Y ANTIGUA AND BARBUDA\\n', 'Y ARGENTINA\\n', 'A ARMENIA\\n', 'N AUSTRALIA\\n', 'N AUSTRIA\\n']\n"
     ]
    }
   ],
   "source": [
    "os.chdir(os.path.join(root, \"src\", \"utils\"))\n",
    "from aka import tri2aka\n",
    "os.chdir(os.path.join(root, \"src\"))"
   ]
  },
  {
   "cell_type": "code",
   "execution_count": 7,
   "id": "fa01d271",
   "metadata": {},
   "outputs": [],
   "source": [
    "# make sure every country in the UN have their GDP data\n",
    "\n",
    "\n",
    "for c in covotes.columns:\n",
    "    if c not in GDP.keys():\n",
    "        print(c)\n",
    "        print(tri2aka[c])"
   ]
  },
  {
   "cell_type": "code",
   "execution_count": 8,
   "id": "61ca82e1",
   "metadata": {},
   "outputs": [],
   "source": [
    "for tri1 in UN_countries:\n",
    "    for tri2 in UN_countries:\n",
    "        wij.loc[tri1, tri2] = (1+GDP[tri2]/GDP[tri1])**(dij.loc[tri1, tri2])\n",
    "#         if enemies90_tri.loc[tri1, tri2] == True:\n",
    "#             wij.loc[tri1, tri2] *= rho"
   ]
  },
  {
   "cell_type": "code",
   "execution_count": 9,
   "id": "3db0e83d",
   "metadata": {},
   "outputs": [
    {
     "data": {
      "text/plain": [
       "0"
      ]
     },
     "execution_count": 9,
     "metadata": {},
     "output_type": "execute_result"
    }
   ],
   "source": [
    "# no missing values\n",
    "wij.isna().sum().sum()"
   ]
  },
  {
   "cell_type": "code",
   "execution_count": 10,
   "id": "dd3c8371",
   "metadata": {},
   "outputs": [],
   "source": [
    "with open(os.path.join(root, 'constructed_network', 'w_data_real_double.txt'), 'w') as f:\n",
    "    for i in range(len(UN_countries)):\n",
    "        for j in range(len(UN_countries)):\n",
    "            f.write(str((wij.iloc[i, j])))\n",
    "            f.write(' ')\n",
    "        f.write('\\n')"
   ]
  },
  {
   "cell_type": "code",
   "execution_count": 11,
   "id": "b3c7c34b",
   "metadata": {},
   "outputs": [],
   "source": [
    "# wij /= wij.min().min()"
   ]
  },
  {
   "cell_type": "code",
   "execution_count": 12,
   "id": "3b48f66b",
   "metadata": {},
   "outputs": [],
   "source": [
    "wij.to_csv(os.path.join(root, \"constructed_network\", \"final_network\", \"weighted.csv\"))"
   ]
  },
  {
   "cell_type": "code",
   "execution_count": 13,
   "id": "5f04129d",
   "metadata": {},
   "outputs": [],
   "source": [
    "# truncate to unity\n",
    "wij_unit = pd.DataFrame(index=UN_countries, columns=UN_countries, dtype=int)"
   ]
  },
  {
   "cell_type": "code",
   "execution_count": 14,
   "id": "dcf78993",
   "metadata": {},
   "outputs": [],
   "source": [
    "for i in range(len(UN_countries)):\n",
    "    for j in range(len(UN_countries)):\n",
    "        wij_unit.iloc[i, j] = int(wij.iloc[i, j]+0.5)"
   ]
  },
  {
   "cell_type": "code",
   "execution_count": 15,
   "id": "a5bf0759",
   "metadata": {},
   "outputs": [],
   "source": [
    "with open(os.path.join(root, 'constructed_network', 'w_data_real.txt'), 'w') as f:\n",
    "    for i in range(len(UN_countries)):\n",
    "        for j in range(len(UN_countries)):\n",
    "            f.write(str((wij_unit.iloc[i, j])))\n",
    "            f.write(' ')\n",
    "        f.write('\\n')"
   ]
  },
  {
   "cell_type": "code",
   "execution_count": 52,
   "id": "5b082604",
   "metadata": {},
   "outputs": [],
   "source": [
    "# for 90 percent\n",
    "\n",
    "import matplotlib.pyplot as plt\n",
    "l = []\n",
    "out_degree = [0]*len(UN_countries)\n",
    "in_degree = [0]*len(UN_countries)\n",
    "for i in range(len(UN_countries)):\n",
    "    for j in range(len(UN_countries)):\n",
    "        if friends90_tri.iloc[i, j] == True or enemies90_tri.iloc[i, j] == True:\n",
    "            l.append(wij_unit.iloc[i, j])\n",
    "            out_degree[i] += 1\n",
    "            \n",
    "        if friends90_tri.iloc[j, i] == True or enemies90_tri.iloc[j, i] == True:\n",
    "            in_degree[i] += 1\n",
    "            \n",
    "l = []\n",
    "w_out_degree = [0]*len(UN_countries)\n",
    "w_in_degree = [0]*len(UN_countries)\n",
    "for i in range(len(UN_countries)):\n",
    "    for j in range(len(UN_countries)):\n",
    "        if friends90_tri.iloc[i, j] == True or enemies90_tri.iloc[i, j] == True:\n",
    "            l.append(wij_unit.iloc[i, j])\n",
    "            w_out_degree[i] += wij.iloc[i, j]\n",
    "            \n",
    "        if friends90_tri.iloc[j, i] == True or enemies90_tri.iloc[j, i] == True:\n",
    "            w_in_degree[i] += wij.iloc[i, j]\n",
    "            \n",
    "from math import log10\n",
    "for i in range(len(UN_countries)):\n",
    "    w_in_degree[i] = log10(1+w_in_degree[i])\n",
    "    w_out_degree[i] = log10(1+w_out_degree[i])\n"
   ]
  },
  {
   "cell_type": "code",
   "execution_count": 53,
   "id": "34b4b2f4",
   "metadata": {},
   "outputs": [],
   "source": [
    "plt.hist(in_degree, bins=20, color='grey')\n",
    "plt.ylim(0, 90)\n",
    "plt.xlim(0, 190)\n",
    "plt.savefig(os.path.join(root, 'constructed_network', 'graph', 'histograms', 'in_degree90.pdf'), format=\"pdf\")\n",
    "plt.close()\n",
    "\n",
    "plt.hist(out_degree, bins=20, color='grey')\n",
    "plt.ylim(0, 90)\n",
    "plt.xlim(0, 190)\n",
    "plt.savefig(os.path.join(root, 'constructed_network', 'graph', 'histograms', 'out_degree90.pdf'), format=\"pdf\")\n",
    "plt.close()\n",
    "\n",
    "import numpy as np\n",
    "\n",
    "plt.hist(w_in_degree, bins=np.linspace(0, 4.5, 20), color='grey')\n",
    "plt.ylim(0, 45)\n",
    "plt.xlim(0, 4.5)\n",
    "plt.savefig(os.path.join(root, 'constructed_network', 'graph', 'histograms', 'weighted_in_degree90.pdf'), format=\"pdf\")\n",
    "plt.close()\n",
    "\n",
    "plt.hist(w_out_degree, bins=np.linspace(0, 4.5, 20), color='grey')\n",
    "plt.ylim(0, 45)\n",
    "plt.xlim(0, 4.5)\n",
    "plt.savefig(os.path.join(root, 'constructed_network', 'graph', 'histograms', 'weighted_out_degree90.pdf'), format=\"pdf\")\n",
    "plt.close()"
   ]
  },
  {
   "cell_type": "code",
   "execution_count": 54,
   "id": "a2712919",
   "metadata": {},
   "outputs": [],
   "source": [
    "# for 80 percent\n",
    "\n",
    "import matplotlib.pyplot as plt\n",
    "l = []\n",
    "out_degree = [0]*len(UN_countries)\n",
    "in_degree = [0]*len(UN_countries)\n",
    "for i in range(len(UN_countries)):\n",
    "    for j in range(len(UN_countries)):\n",
    "        if friends80_tri.iloc[i, j] == True or enemies80_tri.iloc[i, j] == True:\n",
    "            l.append(wij_unit.iloc[i, j])\n",
    "            out_degree[i] += 1\n",
    "            \n",
    "        if friends80_tri.iloc[j, i] == True or enemies80_tri.iloc[j, i] == True:\n",
    "            in_degree[i] += 1\n",
    "            \n",
    "        \n",
    "l = []\n",
    "w_out_degree = [0]*len(UN_countries)\n",
    "w_in_degree = [0]*len(UN_countries)\n",
    "for i in range(len(UN_countries)):\n",
    "    for j in range(len(UN_countries)):\n",
    "        if friends80_tri.iloc[i, j] == True or enemies80_tri.iloc[i, j] == True:\n",
    "            l.append(wij_unit.iloc[i, j])\n",
    "            w_out_degree[i] += wij.iloc[i, j]\n",
    "            \n",
    "        if friends80_tri.iloc[j, i] == True or enemies80_tri.iloc[j, i] == True:\n",
    "            w_in_degree[i] += wij.iloc[i, j]\n",
    "            \n",
    "from math import log10\n",
    "for i in range(len(UN_countries)):\n",
    "    w_in_degree[i] = log10(1+w_in_degree[i])\n",
    "    w_out_degree[i] = log10(1+w_out_degree[i])\n"
   ]
  },
  {
   "cell_type": "code",
   "execution_count": 55,
   "id": "f8ee00cb",
   "metadata": {},
   "outputs": [],
   "source": [
    "plt.hist(in_degree, bins=20, color='grey')\n",
    "plt.ylim(0, 90)\n",
    "plt.xlim(0, 190)\n",
    "plt.savefig(os.path.join(root, 'constructed_network', 'graph', 'histograms', 'in_degree80.pdf'), format=\"pdf\")\n",
    "plt.close()\n",
    "\n",
    "plt.hist(out_degree, bins=20, color='grey')\n",
    "plt.ylim(0, 90)\n",
    "plt.xlim(0, 190)\n",
    "plt.savefig(os.path.join(root, 'constructed_network', 'graph', 'histograms', 'out_degree80.pdf'), format=\"pdf\")\n",
    "plt.close()\n",
    "\n",
    "\n",
    "plt.hist(w_in_degree, bins=np.linspace(0, 4.5, 20), color='grey')\n",
    "plt.ylim(0, 45)\n",
    "plt.xlim(0, 4.5)\n",
    "plt.savefig(os.path.join(root, 'constructed_network', 'graph', 'histograms', 'weighted_in_degree80.pdf'), format=\"pdf\")\n",
    "plt.close()\n",
    "\n",
    "plt.hist(w_out_degree, bins=np.linspace(0, 4.5, 20), color='grey')\n",
    "plt.ylim(0, 45)\n",
    "plt.xlim(0, 4.5)\n",
    "plt.savefig(os.path.join(root, 'constructed_network', 'graph', 'histograms', 'weighted_out_degree80.pdf'), format=\"pdf\")\n",
    "plt.close()"
   ]
  },
  {
   "cell_type": "code",
   "execution_count": 26,
   "id": "f63207ff",
   "metadata": {},
   "outputs": [
    {
     "data": {
      "text/plain": [
       "[40.57446791855322,\n",
       " 18.302219720191054,\n",
       " 577.4177991399151,\n",
       " 126.30528097186682,\n",
       " 12.619852600701957,\n",
       " 4.090253891990507,\n",
       " 140.66376412871705,\n",
       " 26.87517718898525,\n",
       " 60.90624187888293,\n",
       " 1.992323818558579,\n",
       " 1666.81480974706,\n",
       " 112.11658257287067,\n",
       " 108.37640420945479,\n",
       " 13.457301909418636,\n",
       " 1.9901071164403275,\n",
       " 208.12264891453404,\n",
       " 8.263738319145448,\n",
       " 1.99691679916945,\n",
       " 21.463083173532063,\n",
       " 33.76611452972806,\n",
       " 99.52716402256402,\n",
       " 2.9847483638752847,\n",
       " 14.537842829319287,\n",
       " 82.36578580544332,\n",
       " 84.52916593609302,\n",
       " 12070.49906504556,\n",
       " 1.9798518765151745,\n",
       " 1836.3799754612112,\n",
       " 46.34991056333206,\n",
       " 111.7628251649654,\n",
       " 14.890847636521512,\n",
       " 30.02432012743354,\n",
       " 5.057169245928149,\n",
       " 3.7903349279423937,\n",
       " 9.455145575375402,\n",
       " 3.6103775551396073,\n",
       " 17.42024860825335,\n",
       " 3216.5959223445243,\n",
       " 599.0217508412879,\n",
       " 10.545829286073257,\n",
       " 3.004413622195321,\n",
       " 142.87886255389367,\n",
       " 45.927241347178764,\n",
       " 76.83298524827501,\n",
       " 402.01666684478766,\n",
       " 160.87983949157191,\n",
       " 107.00879183297299,\n",
       " 3.031513923411201,\n",
       " 10.474304645044581,\n",
       " 18.203866645736746,\n",
       " 14.823887405308321,\n",
       " 2365.915965586457,\n",
       " 85.7075505929977,\n",
       " 373.74047020037716,\n",
       " 1.9724451248661514,\n",
       " 79.01865322953279,\n",
       " 58.38225569632091,\n",
       " 81.53711679305233,\n",
       " 78.93053828334905,\n",
       " 79.98939575075767,\n",
       " 3.0107116922961823,\n",
       " 13.244211289148465,\n",
       " 9.815635986150864,\n",
       " 1751.6006483288068,\n",
       " 129.2719161555569,\n",
       " 1.995627595899091,\n",
       " 113.61142445948227,\n",
       " 1915.6000977961114,\n",
       " 3.0771987704635855,\n",
       " 136.56333639982822,\n",
       " 28.06355933923113,\n",
       " 242.8746612221631,\n",
       " 111.30769999742728,\n",
       " 59.10942351944578,\n",
       " 10.8612130017619,\n",
       " 30.04414103118919,\n",
       " 66.78677481399595,\n",
       " 1.9667282894216336,\n",
       " 22.40187948765923,\n",
       " 328.962067061906,\n",
       " 170.26713643739188,\n",
       " 73.34860609358385,\n",
       " 5.671924096657673,\n",
       " 22.851782521461715,\n",
       " 35.95473399469774,\n",
       " 17.832432005631173,\n",
       " 3.6476601911700164,\n",
       " 116.26271669642323,\n",
       " 116.97318318336136,\n",
       " 5023.97295296157,\n",
       " 1081.1796533641254,\n",
       " 47.65034691041727,\n",
       " 15.169950825732293,\n",
       " 28.14011048983917,\n",
       " 14.664447737728782,\n",
       " 582.1231708585591,\n",
       " 47.49195113650235,\n",
       " 1376.6053180776485,\n",
       " 1.993316876369024,\n",
       " 1443.0458707985915,\n",
       " 242.3982979047546,\n",
       " 393.2242310290372,\n",
       " 371.75674352306964,\n",
       " 17.829391523588402,\n",
       " 1.9952080189714325,\n",
       " 34.95158047101283,\n",
       " 31.616642839734634,\n",
       " 39.80106374908256,\n",
       " 26.213482976011274,\n",
       " 3.005381311744598,\n",
       " 540.6120510905469,\n",
       " 1870.317688952156,\n",
       " 1.9675658809155345,\n",
       " 14.075669507503122,\n",
       " 260.1386907780067,\n",
       " 1.998818482043359,\n",
       " 407.5366572216251,\n",
       " 33.73035927728607,\n",
       " 29.35975407839889,\n",
       " 52.83931095319819,\n",
       " 23.19309231869932,\n",
       " 5.2688227210053,\n",
       " 55.179703781743164,\n",
       " 76.3629253028124,\n",
       " 57.08560907656243,\n",
       " 17.46338090987917,\n",
       " 4.7268096015197365,\n",
       " 1.9879920241878106,\n",
       " 1.975593445872677,\n",
       " 60.1450527246289,\n",
       " 22.41474572710518,\n",
       " 16.613605066720257,\n",
       " 16.27034688408473,\n",
       " 66.98424012021208,\n",
       " 126.07481217503341,\n",
       " 90.66498700453047,\n",
       " 33.955618767708174,\n",
       " 34.08263499359288,\n",
       " 24.972688509167977,\n",
       " 29.67366992059542,\n",
       " 27.827781564050994,\n",
       " 23.74676764202254,\n",
       " 8.311526978743764,\n",
       " 96.36492470392227,\n",
       " 202.31802767001716,\n",
       " 422.4081457857422,\n",
       " 1041.4100647273342,\n",
       " 26.97077249558836,\n",
       " 20.719914391848302,\n",
       " 15.436909554543798,\n",
       " 246.866931899042,\n",
       " 340.51456988638677,\n",
       " 243.29747899624735,\n",
       " 274.2343403063295,\n",
       " 75.7852165760287,\n",
       " 417.1173537826094,\n",
       " 75.67572952551072,\n",
       " 1121.1835678581635,\n",
       " 212.70806458563237,\n",
       " 307.6794671857614,\n",
       " 105.99870572879209,\n",
       " 404.47109002558307,\n",
       " 1.981824157483945,\n",
       " 531.8735586678978,\n",
       " 997.2834478588408,\n",
       " 4.6907696685573095,\n",
       " 12.117481441565431,\n",
       " 9.474105981578603,\n",
       " 21098.363526505233,\n",
       " 3.318685505965508,\n",
       " 4.951366737664629,\n",
       " 13.80606808533031,\n",
       " 11.879150029750543,\n",
       " 130.9826451997291,\n",
       " 4.249076800328621,\n",
       " 873.5099912259126,\n",
       " 43.774279911397315,\n",
       " 12.731215304913494,\n",
       " 146.40339483788756,\n",
       " 35.7143738865151,\n",
       " 20.36464097029189,\n",
       " 5.092257001366768,\n",
       " 55.88388955217314,\n",
       " 94.48438431969923]"
      ]
     },
     "execution_count": 26,
     "metadata": {},
     "output_type": "execute_result"
    }
   ],
   "source": [
    "w_in_degree"
   ]
  },
  {
   "cell_type": "code",
   "execution_count": 71,
   "id": "00fa7d3e",
   "metadata": {},
   "outputs": [
    {
     "data": {
      "text/plain": [
       "(array([77., 31., 15., 18., 11.,  9.,  5.,  5.,  4.,  0.,  1.,  0.,  3.,\n",
       "         1.,  1.,  0.,  0.,  0.,  2.,  1.]),\n",
       " array([  1. ,   9.6,  18.2,  26.8,  35.4,  44. ,  52.6,  61.2,  69.8,\n",
       "         78.4,  87. ,  95.6, 104.2, 112.8, 121.4, 130. , 138.6, 147.2,\n",
       "        155.8, 164.4, 173. ]),\n",
       " <BarContainer object of 20 artists>)"
      ]
     },
     "execution_count": 71,
     "metadata": {},
     "output_type": "execute_result"
    },
    {
     "data": {
      "image/png": "[encoded data removed]",
      "text/plain": [
       "<Figure size 640x480 with 1 Axes>"
      ]
     },
     "metadata": {},
     "output_type": "display_data"
    }
   ],
   "source": [
    "# histogram for in-degree\n",
    "plt.hist(in_degree, bins=20, color='grey')\n",
    "# plt.title(\"The histogram of in-degrees for all country\")"
   ]
  },
  {
   "cell_type": "code",
   "execution_count": 70,
   "id": "a96b9455",
   "metadata": {},
   "outputs": [
    {
     "data": {
      "text/plain": [
       "(array([13., 22., 26., 33., 21.,  5., 17.,  5.,  3.,  5.,  4.,  3.,  6.,\n",
       "         3.,  5.,  5.,  4.,  1.,  1.,  2.]),\n",
       " array([ 4.  ,  7.65, 11.3 , 14.95, 18.6 , 22.25, 25.9 , 29.55, 33.2 ,\n",
       "        36.85, 40.5 , 44.15, 47.8 , 51.45, 55.1 , 58.75, 62.4 , 66.05,\n",
       "        69.7 , 73.35, 77.  ]),\n",
       " <BarContainer object of 20 artists>)"
      ]
     },
     "execution_count": 70,
     "metadata": {},
     "output_type": "execute_result"
    },
    {
     "data": {
      "image/png": "[encoded data removed]",
      "text/plain": [
       "<Figure size 640x480 with 1 Axes>"
      ]
     },
     "metadata": {},
     "output_type": "display_data"
    }
   ],
   "source": [
    "# histogram for out-degree\n",
    "plt.hist(out_degree, bins=20, color='grey')\n",
    "# plt.title(\"The histogram of out-degrees for all country\")"
   ]
  }
 ],
 "metadata": {
  "kernelspec": {
   "display_name": "Python 3 (ipykernel)",
   "language": "python",
   "name": "python3"
  },
  "language_info": {
   "codemirror_mode": {
    "name": "ipython",
    "version": 3
   },
   "file_extension": ".py",
   "mimetype": "text/x-python",
   "name": "python",
   "nbconvert_exporter": "python",
   "pygments_lexer": "ipython3",
   "version": "3.9.12"
  }
 },
 "nbformat": 4,
 "nbformat_minor": 5
}
